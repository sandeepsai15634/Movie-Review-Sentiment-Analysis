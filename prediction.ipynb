{
 "cells": [
  {
   "cell_type": "code",
   "execution_count": 1,
   "id": "2b63a5e8",
   "metadata": {},
   "outputs": [],
   "source": [
    "# Step 1: Import Libraries and Load the Model\n",
    "import numpy as np\n",
    "import tensorflow as tf\n",
    "from tensorflow.keras.datasets import imdb\n",
    "from tensorflow.keras.preprocessing import sequence\n",
    "from tensorflow.keras.models import load_model"
   ]
  },
  {
   "cell_type": "code",
   "execution_count": 2,
   "id": "6acf9f80",
   "metadata": {},
   "outputs": [],
   "source": [
    "# Load the IMDB dataset word index\n",
    "word_index = imdb.get_word_index()\n",
    "reverse_word_index = {value: key for key, value in word_index.items()}"
   ]
  },
  {
   "cell_type": "code",
   "execution_count": 4,
   "id": "a8b09ba1",
   "metadata": {},
   "outputs": [
    {
     "name": "stderr",
     "output_type": "stream",
     "text": [
      "WARNING:absl:Compiled the loaded model, but the compiled metrics have yet to be built. `model.compile_metrics` will be empty until you train or evaluate the model.\n"
     ]
    },
    {
     "data": {
      "text/html": [
       "<pre style=\"white-space:pre;overflow-x:auto;line-height:normal;font-family:Menlo,'DejaVu Sans Mono',consolas,'Courier New',monospace\"><span style=\"font-weight: bold\">Model: \"sequential\"</span>\n",
       "</pre>\n"
      ],
      "text/plain": [
       "\u001b[1mModel: \"sequential\"\u001b[0m\n"
      ]
     },
     "metadata": {},
     "output_type": "display_data"
    },
    {
     "data": {
      "text/html": [
       "<pre style=\"white-space:pre;overflow-x:auto;line-height:normal;font-family:Menlo,'DejaVu Sans Mono',consolas,'Courier New',monospace\">┏━━━━━━━━━━━━━━━━━━━━━━━━━━━━━━━━━┳━━━━━━━━━━━━━━━━━━━━━━━━┳━━━━━━━━━━━━━━━┓\n",
       "┃<span style=\"font-weight: bold\"> Layer (type)                    </span>┃<span style=\"font-weight: bold\"> Output Shape           </span>┃<span style=\"font-weight: bold\">       Param # </span>┃\n",
       "┡━━━━━━━━━━━━━━━━━━━━━━━━━━━━━━━━━╇━━━━━━━━━━━━━━━━━━━━━━━━╇━━━━━━━━━━━━━━━┩\n",
       "│ embedding (<span style=\"color: #0087ff; text-decoration-color: #0087ff\">Embedding</span>)           │ (<span style=\"color: #00af00; text-decoration-color: #00af00\">32</span>, <span style=\"color: #00af00; text-decoration-color: #00af00\">500</span>, <span style=\"color: #00af00; text-decoration-color: #00af00\">128</span>)         │     <span style=\"color: #00af00; text-decoration-color: #00af00\">1,280,000</span> │\n",
       "├─────────────────────────────────┼────────────────────────┼───────────────┤\n",
       "│ simple_rnn (<span style=\"color: #0087ff; text-decoration-color: #0087ff\">SimpleRNN</span>)          │ (<span style=\"color: #00af00; text-decoration-color: #00af00\">32</span>, <span style=\"color: #00af00; text-decoration-color: #00af00\">128</span>)              │        <span style=\"color: #00af00; text-decoration-color: #00af00\">32,896</span> │\n",
       "├─────────────────────────────────┼────────────────────────┼───────────────┤\n",
       "│ dense (<span style=\"color: #0087ff; text-decoration-color: #0087ff\">Dense</span>)                   │ (<span style=\"color: #00af00; text-decoration-color: #00af00\">32</span>, <span style=\"color: #00af00; text-decoration-color: #00af00\">1</span>)                │           <span style=\"color: #00af00; text-decoration-color: #00af00\">129</span> │\n",
       "└─────────────────────────────────┴────────────────────────┴───────────────┘\n",
       "</pre>\n"
      ],
      "text/plain": [
       "┏━━━━━━━━━━━━━━━━━━━━━━━━━━━━━━━━━┳━━━━━━━━━━━━━━━━━━━━━━━━┳━━━━━━━━━━━━━━━┓\n",
       "┃\u001b[1m \u001b[0m\u001b[1mLayer (type)                   \u001b[0m\u001b[1m \u001b[0m┃\u001b[1m \u001b[0m\u001b[1mOutput Shape          \u001b[0m\u001b[1m \u001b[0m┃\u001b[1m \u001b[0m\u001b[1m      Param #\u001b[0m\u001b[1m \u001b[0m┃\n",
       "┡━━━━━━━━━━━━━━━━━━━━━━━━━━━━━━━━━╇━━━━━━━━━━━━━━━━━━━━━━━━╇━━━━━━━━━━━━━━━┩\n",
       "│ embedding (\u001b[38;5;33mEmbedding\u001b[0m)           │ (\u001b[38;5;34m32\u001b[0m, \u001b[38;5;34m500\u001b[0m, \u001b[38;5;34m128\u001b[0m)         │     \u001b[38;5;34m1,280,000\u001b[0m │\n",
       "├─────────────────────────────────┼────────────────────────┼───────────────┤\n",
       "│ simple_rnn (\u001b[38;5;33mSimpleRNN\u001b[0m)          │ (\u001b[38;5;34m32\u001b[0m, \u001b[38;5;34m128\u001b[0m)              │        \u001b[38;5;34m32,896\u001b[0m │\n",
       "├─────────────────────────────────┼────────────────────────┼───────────────┤\n",
       "│ dense (\u001b[38;5;33mDense\u001b[0m)                   │ (\u001b[38;5;34m32\u001b[0m, \u001b[38;5;34m1\u001b[0m)                │           \u001b[38;5;34m129\u001b[0m │\n",
       "└─────────────────────────────────┴────────────────────────┴───────────────┘\n"
      ]
     },
     "metadata": {},
     "output_type": "display_data"
    },
    {
     "data": {
      "text/html": [
       "<pre style=\"white-space:pre;overflow-x:auto;line-height:normal;font-family:Menlo,'DejaVu Sans Mono',consolas,'Courier New',monospace\"><span style=\"font-weight: bold\"> Total params: </span><span style=\"color: #00af00; text-decoration-color: #00af00\">1,313,027</span> (5.01 MB)\n",
       "</pre>\n"
      ],
      "text/plain": [
       "\u001b[1m Total params: \u001b[0m\u001b[38;5;34m1,313,027\u001b[0m (5.01 MB)\n"
      ]
     },
     "metadata": {},
     "output_type": "display_data"
    },
    {
     "data": {
      "text/html": [
       "<pre style=\"white-space:pre;overflow-x:auto;line-height:normal;font-family:Menlo,'DejaVu Sans Mono',consolas,'Courier New',monospace\"><span style=\"font-weight: bold\"> Trainable params: </span><span style=\"color: #00af00; text-decoration-color: #00af00\">1,313,025</span> (5.01 MB)\n",
       "</pre>\n"
      ],
      "text/plain": [
       "\u001b[1m Trainable params: \u001b[0m\u001b[38;5;34m1,313,025\u001b[0m (5.01 MB)\n"
      ]
     },
     "metadata": {},
     "output_type": "display_data"
    },
    {
     "data": {
      "text/html": [
       "<pre style=\"white-space:pre;overflow-x:auto;line-height:normal;font-family:Menlo,'DejaVu Sans Mono',consolas,'Courier New',monospace\"><span style=\"font-weight: bold\"> Non-trainable params: </span><span style=\"color: #00af00; text-decoration-color: #00af00\">0</span> (0.00 B)\n",
       "</pre>\n"
      ],
      "text/plain": [
       "\u001b[1m Non-trainable params: \u001b[0m\u001b[38;5;34m0\u001b[0m (0.00 B)\n"
      ]
     },
     "metadata": {},
     "output_type": "display_data"
    },
    {
     "data": {
      "text/html": [
       "<pre style=\"white-space:pre;overflow-x:auto;line-height:normal;font-family:Menlo,'DejaVu Sans Mono',consolas,'Courier New',monospace\"><span style=\"font-weight: bold\"> Optimizer params: </span><span style=\"color: #00af00; text-decoration-color: #00af00\">2</span> (12.00 B)\n",
       "</pre>\n"
      ],
      "text/plain": [
       "\u001b[1m Optimizer params: \u001b[0m\u001b[38;5;34m2\u001b[0m (12.00 B)\n"
      ]
     },
     "metadata": {},
     "output_type": "display_data"
    }
   ],
   "source": [
    "# Load the pre-trained model with ReLU activation\n",
    "model =  load_model(\"simple_rnn_imdb.h5\")\n",
    "model.summary()"
   ]
  },
  {
   "cell_type": "code",
   "execution_count": 11,
   "id": "7f5aa71c",
   "metadata": {},
   "outputs": [
    {
     "data": {
      "text/plain": [
       "[array([[-0.13547827, -0.15363121,  0.28073582, ...,  0.2615508 ,\n",
       "          0.02809636,  0.104714  ],\n",
       "        [-0.00228096,  0.00637089,  0.02803051, ...,  0.02291886,\n",
       "          0.08351214,  0.02990003],\n",
       "        [-0.0540764 , -0.04208838,  0.0024293 , ...,  0.03532271,\n",
       "         -0.0116861 , -0.00422884],\n",
       "        ...,\n",
       "        [ 0.00153497, -0.01435027,  0.05721924, ...,  0.02113193,\n",
       "         -0.00575322, -0.03231651],\n",
       "        [ 0.06199664,  0.04389305, -0.04581253, ..., -0.03016464,\n",
       "         -0.01195259, -0.00623193],\n",
       "        [-0.01660709,  0.03897107, -0.00609994, ..., -0.05382247,\n",
       "          0.00057975,  0.00149659]], dtype=float32),\n",
       " array([[ 0.04311082,  0.11442321,  0.07111955, ..., -0.14991327,\n",
       "          0.08311854,  0.10857227],\n",
       "        [ 0.13823776,  0.01388544,  0.03247462, ...,  0.01844502,\n",
       "         -0.0442703 , -0.04431394],\n",
       "        [-0.17748246,  0.02148685,  0.07410147, ...,  0.00102813,\n",
       "         -0.1289358 ,  0.06962594],\n",
       "        ...,\n",
       "        [-0.15484852,  0.12737885,  0.10180888, ...,  0.13549773,\n",
       "         -0.11940563, -0.00535654],\n",
       "        [ 0.04720535, -0.09286129,  0.03349717, ..., -0.03912616,\n",
       "          0.14221556,  0.07813825],\n",
       "        [ 0.16907288,  0.005254  , -0.136145  , ..., -0.04974721,\n",
       "          0.08940537, -0.12094724]], dtype=float32),\n",
       " array([[-0.00458482, -0.03509764, -0.17691188, ..., -0.13140188,\n",
       "         -0.16041419,  0.08353428],\n",
       "        [-0.02980889, -0.09260888, -0.14740486, ...,  0.08501408,\n",
       "         -0.03567169,  0.09926475],\n",
       "        [ 0.12092065,  0.10661067, -0.0835337 , ..., -0.06400179,\n",
       "          0.10298686,  0.04853203],\n",
       "        ...,\n",
       "        [-0.00732259, -0.06994246,  0.03491384, ..., -0.05781493,\n",
       "         -0.00102471, -0.03277761],\n",
       "        [-0.09374666,  0.01190336, -0.04740974, ...,  0.01347243,\n",
       "          0.01573495, -0.20194133],\n",
       "        [-0.0370006 ,  0.09879921, -0.08976121, ..., -0.02357822,\n",
       "         -0.01652851, -0.0616111 ]], dtype=float32),\n",
       " array([-7.69307232e-03,  1.01063820e-02, -2.13114899e-02, -2.24440712e-02,\n",
       "         8.69339798e-03, -3.24831158e-02, -1.08343512e-02, -2.69057956e-02,\n",
       "        -4.40718457e-02,  6.59415592e-03,  2.82945037e-02, -3.81930098e-02,\n",
       "         1.23196011e-02, -1.48968780e-02, -1.25664268e-02, -2.74611469e-02,\n",
       "        -1.02104926e-02, -1.37910089e-02, -9.23030166e-05,  1.12859719e-02,\n",
       "        -1.07738003e-02,  1.01330485e-02,  9.50435083e-03, -2.33761240e-02,\n",
       "         1.67253017e-02, -1.06830141e-02,  1.39104831e-03,  6.34241430e-03,\n",
       "         1.16529397e-03, -1.48553457e-02, -1.24936942e-02, -1.96456630e-02,\n",
       "         5.82380127e-03, -2.03146972e-02,  7.76330940e-04, -1.79743879e-02,\n",
       "        -6.55305153e-03, -1.28415581e-02, -1.86473392e-02,  3.93109722e-03,\n",
       "         4.33861418e-03, -9.48912185e-03,  1.40895648e-02, -3.80918048e-02,\n",
       "         1.29651157e-02,  1.27267251e-02,  2.13994943e-02,  7.62118353e-03,\n",
       "        -1.56401191e-02, -4.04048525e-03,  7.11001875e-03,  7.81473983e-03,\n",
       "        -1.08206514e-02, -9.53865331e-03, -2.46365741e-02,  1.58376023e-02,\n",
       "        -7.63536431e-03, -8.12117290e-03, -3.02497461e-03,  1.94783043e-02,\n",
       "        -2.13902816e-03, -4.04521171e-03, -2.90198680e-02,  2.00473540e-03,\n",
       "        -1.16487322e-02, -8.19734298e-04, -7.51111191e-03, -8.96623242e-04,\n",
       "        -2.82965600e-02, -2.89841462e-02, -2.75291279e-02, -7.36248959e-03,\n",
       "        -8.72099120e-03,  7.92729296e-03,  1.17583955e-02, -2.70795403e-03,\n",
       "        -1.11288056e-02,  7.63960241e-04, -8.39601271e-03, -1.74292624e-02,\n",
       "        -1.79940034e-02, -3.22162057e-03, -1.18658319e-02, -2.58495957e-02,\n",
       "         1.72695890e-02, -4.10268782e-03, -9.40897781e-03, -3.98083217e-02,\n",
       "         9.41367529e-04,  1.24997739e-02, -8.65902379e-03, -9.07992944e-03,\n",
       "        -1.87314465e-03, -2.77372245e-02, -3.75822261e-02,  2.17211898e-02,\n",
       "        -1.72842070e-02, -4.85507352e-03,  6.27987739e-03, -1.69818625e-02,\n",
       "        -1.59261283e-02, -2.46320362e-03, -1.43937878e-02, -3.16621251e-02,\n",
       "        -5.89679088e-03, -2.40800879e-03,  1.06595354e-02, -2.21041236e-02,\n",
       "        -4.11871448e-03,  9.74053424e-03,  1.77624132e-02,  3.37596759e-02,\n",
       "        -1.61914434e-02, -9.74503346e-03,  1.00323493e-02, -1.41746271e-02,\n",
       "        -3.17913964e-02, -1.65018085e-02, -9.60442703e-03, -1.39304576e-03,\n",
       "         4.83097648e-03,  3.25882621e-03, -3.38483788e-03,  2.29013339e-02,\n",
       "         8.64709262e-03, -4.07986008e-02,  3.35274055e-03, -5.08456081e-02],\n",
       "       dtype=float32),\n",
       " array([[ 0.11984411],\n",
       "        [-0.1846848 ],\n",
       "        [ 0.05405017],\n",
       "        [ 0.0078579 ],\n",
       "        [-0.20590818],\n",
       "        [ 0.04504082],\n",
       "        [ 0.1266787 ],\n",
       "        [ 0.02958343],\n",
       "        [-0.14064641],\n",
       "        [ 0.06841645],\n",
       "        [-0.25793114],\n",
       "        [-0.0181856 ],\n",
       "        [ 0.02648042],\n",
       "        [-0.16579045],\n",
       "        [ 0.22749572],\n",
       "        [-0.12137602],\n",
       "        [ 0.09202494],\n",
       "        [ 0.2712891 ],\n",
       "        [-0.06550355],\n",
       "        [ 0.16147509],\n",
       "        [-0.22006027],\n",
       "        [-0.17305788],\n",
       "        [-0.1633521 ],\n",
       "        [-0.2514449 ],\n",
       "        [ 0.3076492 ],\n",
       "        [ 0.11607309],\n",
       "        [ 0.28250462],\n",
       "        [ 0.21396537],\n",
       "        [-0.22881033],\n",
       "        [ 0.11232219],\n",
       "        [ 0.26332578],\n",
       "        [ 0.08117329],\n",
       "        [-0.18897985],\n",
       "        [ 0.21287358],\n",
       "        [ 0.23533203],\n",
       "        [-0.05209525],\n",
       "        [-0.21193044],\n",
       "        [ 0.15912847],\n",
       "        [-0.15728913],\n",
       "        [ 0.21475688],\n",
       "        [ 0.23369595],\n",
       "        [-0.10870651],\n",
       "        [-0.22635621],\n",
       "        [ 0.1609571 ],\n",
       "        [ 0.15104549],\n",
       "        [ 0.22938956],\n",
       "        [ 0.27051628],\n",
       "        [ 0.20384136],\n",
       "        [ 0.13421163],\n",
       "        [ 0.09537645],\n",
       "        [-0.13645126],\n",
       "        [-0.17840117],\n",
       "        [-0.02393521],\n",
       "        [ 0.06289346],\n",
       "        [-0.06418759],\n",
       "        [ 0.2513377 ],\n",
       "        [-0.00174531],\n",
       "        [-0.21873964],\n",
       "        [-0.32652223],\n",
       "        [ 0.1130121 ],\n",
       "        [ 0.25566334],\n",
       "        [ 0.12607834],\n",
       "        [-0.13820353],\n",
       "        [ 0.16467959],\n",
       "        [ 0.1588564 ],\n",
       "        [ 0.10828111],\n",
       "        [ 0.14159779],\n",
       "        [ 0.28374425],\n",
       "        [ 0.0200265 ],\n",
       "        [-0.15968321],\n",
       "        [-0.27581084],\n",
       "        [ 0.19861144],\n",
       "        [-0.13807766],\n",
       "        [-0.18338141],\n",
       "        [ 0.27169976],\n",
       "        [-0.16621225],\n",
       "        [-0.12432047],\n",
       "        [-0.01704252],\n",
       "        [ 0.15891473],\n",
       "        [ 0.14721459],\n",
       "        [ 0.10873054],\n",
       "        [-0.10653786],\n",
       "        [-0.11706543],\n",
       "        [-0.11945076],\n",
       "        [-0.26612195],\n",
       "        [ 0.08803165],\n",
       "        [ 0.02064325],\n",
       "        [-0.2660724 ],\n",
       "        [-0.16253136],\n",
       "        [ 0.17575973],\n",
       "        [ 0.1638191 ],\n",
       "        [ 0.05746837],\n",
       "        [ 0.21454492],\n",
       "        [ 0.10530966],\n",
       "        [-0.21167333],\n",
       "        [ 0.00290607],\n",
       "        [ 0.13962612],\n",
       "        [-0.04383915],\n",
       "        [ 0.2615171 ],\n",
       "        [-0.05796562],\n",
       "        [ 0.17896473],\n",
       "        [ 0.20424308],\n",
       "        [ 0.1378231 ],\n",
       "        [-0.08275503],\n",
       "        [-0.03667066],\n",
       "        [ 0.09340578],\n",
       "        [-0.2612291 ],\n",
       "        [ 0.17360023],\n",
       "        [ 0.19254652],\n",
       "        [ 0.20796719],\n",
       "        [-0.24213268],\n",
       "        [ 0.3162756 ],\n",
       "        [ 0.01846647],\n",
       "        [ 0.24135455],\n",
       "        [ 0.06186673],\n",
       "        [ 0.1354863 ],\n",
       "        [ 0.01804443],\n",
       "        [-0.09910422],\n",
       "        [ 0.06559264],\n",
       "        [ 0.17889513],\n",
       "        [ 0.17340183],\n",
       "        [-0.01813738],\n",
       "        [ 0.22796966],\n",
       "        [-0.11374938],\n",
       "        [ 0.1582076 ],\n",
       "        [ 0.02907502],\n",
       "        [-0.07121488],\n",
       "        [-0.18303984]], dtype=float32),\n",
       " array([0.06872373], dtype=float32)]"
      ]
     },
     "execution_count": 11,
     "metadata": {},
     "output_type": "execute_result"
    }
   ],
   "source": [
    "model.get_weights()"
   ]
  },
  {
   "cell_type": "code",
   "execution_count": 5,
   "id": "35a134ff",
   "metadata": {},
   "outputs": [],
   "source": [
    "# Step 2: Helper Functions\n",
    "# Function to decode reviews\n",
    "def decode_review(encoded_review):\n",
    "    return ' '.join([reverse_word_index.get(i - 3, '?') for i in encoded_review])\n",
    "\n",
    "# Function to preprocess user input\n",
    "def preprocess_text(text):\n",
    "    words = text.lower().split()\n",
    "    encoded_review = [word_index.get(word, 2) + 3 for word in words]\n",
    "    padded_review = sequence.pad_sequences([encoded_review], maxlen=500)\n",
    "    return padded_review"
   ]
  },
  {
   "cell_type": "code",
   "execution_count": 6,
   "id": "a67907d8",
   "metadata": {},
   "outputs": [],
   "source": [
    "### Prediction  function\n",
    "\n",
    "def predict_sentiment(review):\n",
    "    preprocessed_input=preprocess_text(review)\n",
    "\n",
    "    prediction=model.predict(preprocessed_input)\n",
    "\n",
    "    sentiment = 'Positive' if prediction[0][0] > 0.5 else 'Negative'\n",
    "    \n",
    "    return sentiment, prediction[0][0]"
   ]
  },
  {
   "cell_type": "code",
   "execution_count": 14,
   "id": "eb751874",
   "metadata": {},
   "outputs": [
    {
     "name": "stdout",
     "output_type": "stream",
     "text": [
      "\u001b[1m1/1\u001b[0m \u001b[32m━━━━━━━━━━━━━━━━━━━━\u001b[0m\u001b[37m\u001b[0m \u001b[1m0s\u001b[0m 139ms/step\n",
      "Review: This movie was fantastic! The acting was great and the plot was thrilling.\n",
      "Sentiment: Positive\n",
      "Prediction Score: 0.6593906879425049\n"
     ]
    }
   ],
   "source": [
    "# Step 4: User Input and Prediction\n",
    "# Example review for prediction\n",
    "example_review = \"This movie was fantastic! The acting was great and the plot was thrilling.\"\n",
    "\n",
    "sentiment,score=predict_sentiment(example_review)\n",
    "\n",
    "print(f'Review: {example_review}')\n",
    "print(f'Sentiment: {sentiment}')\n",
    "print(f'Prediction Score: {score}')"
   ]
  },
  {
   "cell_type": "code",
   "execution_count": 7,
   "id": "51e5b552",
   "metadata": {},
   "outputs": [
    {
     "name": "stdout",
     "output_type": "stream",
     "text": [
      "\u001b[1m1/1\u001b[0m \u001b[32m━━━━━━━━━━━━━━━━━━━━\u001b[0m\u001b[37m\u001b[0m \u001b[1m0s\u001b[0m 219ms/step\n",
      "Review: the acting is worst .\n",
      "Sentiment: Negative\n",
      "Prediction Score: 0.11168938130140305\n"
     ]
    }
   ],
   "source": [
    "example_review = \"the acting is worst .\"\n",
    "\n",
    "sentiment,score=predict_sentiment(example_review)\n",
    "\n",
    "print(f'Review: {example_review}')\n",
    "print(f'Sentiment: {sentiment}')\n",
    "print(f'Prediction Score: {score}')"
   ]
  },
  {
   "cell_type": "code",
   "execution_count": null,
   "id": "8324ce08",
   "metadata": {},
   "outputs": [],
   "source": []
  }
 ],
 "metadata": {
  "kernelspec": {
   "display_name": "myenv",
   "language": "python",
   "name": "python3"
  },
  "language_info": {
   "codemirror_mode": {
    "name": "ipython",
    "version": 3
   },
   "file_extension": ".py",
   "mimetype": "text/x-python",
   "name": "python",
   "nbconvert_exporter": "python",
   "pygments_lexer": "ipython3",
   "version": "3.12.2"
  }
 },
 "nbformat": 4,
 "nbformat_minor": 5
}
